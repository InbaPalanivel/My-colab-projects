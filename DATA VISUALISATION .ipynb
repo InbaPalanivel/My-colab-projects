{
  "nbformat": 4,
  "nbformat_minor": 0,
  "metadata": {
    "colab": {
      "provenance": [],
      "authorship_tag": "ABX9TyPjdsdqeJZXPluNmcnY7K4t",
      "include_colab_link": true
    },
    "kernelspec": {
      "name": "python3",
      "display_name": "Python 3"
    },
    "language_info": {
      "name": "python"
    }
  },
  "cells": [
    {
      "cell_type": "markdown",
      "metadata": {
        "id": "view-in-github",
        "colab_type": "text"
      },
      "source": [
        "<a href=\"https://colab.research.google.com/github/InbaPalanivel/My-colab-projects/blob/main/DATA%20VISUALISATION%20.ipynb\" target=\"_parent\"><img src=\"https://colab.research.google.com/assets/colab-badge.svg\" alt=\"Open In Colab\"/></a>"
      ]
    },
    {
      "cell_type": "markdown",
      "source": [
        "# 1.INTRODUCTION\n",
        "The project focuses on cleaning, transforming, visualizing, and initially modeling the healthcare dataset for actionable intelligence regarding stroke prediction. The data preprocessing pipeline ensures data quality and prepares the dataset for advanced analytics.\n",
        "\n"
      ],
      "metadata": {
        "id": "HyjvijEpoaDv"
      }
    },
    {
      "cell_type": "markdown",
      "source": [
        "# 2.PROBLEM STATEMENT\n",
        "Stroke is one of the leading causes of death and long-term disability worldwide. Early identification of risk factors and segmentation of patients can help improve preventive healthcare. The goal of this project is to clean and prepare the dataset, analyze patient characteristics, and perform initial clustering to uncover patterns in stroke-related health data.\n"
      ],
      "metadata": {
        "id": "lWBnTA1-oyAF"
      }
    },
    {
      "cell_type": "markdown",
      "source": [
        "# UPLOADING FILE:"
      ],
      "metadata": {
        "id": "GBI1RWECpAwr"
      }
    },
    {
      "cell_type": "code",
      "execution_count": null,
      "metadata": {
        "colab": {
          "base_uri": "https://localhost:8080/"
        },
        "id": "V2NG0j26cyJ2",
        "outputId": "4d4712b1-e8eb-4d28-de3f-ae7819009957"
      },
      "outputs": [
        {
          "output_type": "execute_result",
          "data": {
            "text/plain": [
              "['healthcare-dataset-stroke-data.csv']"
            ]
          },
          "metadata": {},
          "execution_count": 7
        }
      ],
      "source": [
        "import zipfile\n",
        "import os\n",
        "zip_path=\"/content/archive.zip\"\n",
        "extract_path = \"/content/extracted_archive\"\n",
        "with zipfile.ZipFile(zip_path,'r') as zip_ref:\n",
        "  zip_ref.extractall(extract_path)\n",
        "os.listdir(extract_path)"
      ]
    },
    {
      "cell_type": "markdown",
      "source": [
        "# 3.DATASET DESCRIPTION"
      ],
      "metadata": {
        "id": "CoYUN4h0gFMK"
      }
    },
    {
      "cell_type": "markdown",
      "source": [
        "Source: Healthcare Stroke Dataset (open source)\n",
        "\n",
        "Records: 5,110 rows\n",
        "\n",
        "Features: 12 columns\n",
        "\n",
        "Key Variables:\n",
        "\n",
        "age: Patient’s age\n",
        "\n",
        "hypertension: Whether patient has hypertension (0/1)\n",
        "\n",
        "heart_disease: Whether patient has heart disease (0/1)\n",
        "\n",
        "avg_glucose_level: Average glucose level in blood\n",
        "\n",
        "bmi: Body Mass Index\n",
        "\n",
        "smoking_status: Smoking habits\n",
        "\n",
        "stroke: Target variable (1 = stroke occurred, 0 = no stroke)\n"
      ],
      "metadata": {
        "id": "g5xZN0I26lr2"
      }
    },
    {
      "cell_type": "code",
      "source": [],
      "metadata": {
        "id": "4J71YvM8hovK"
      },
      "execution_count": null,
      "outputs": []
    },
    {
      "cell_type": "markdown",
      "source": [
        "# 4.DATA EXPLORATION"
      ],
      "metadata": {
        "id": "B1WFugO9g5Ty"
      }
    },
    {
      "cell_type": "markdown",
      "source": [
        "The dataset was loaded using Pandas.\n",
        "\n",
        "Preview: First 5 rows were inspected\n",
        "\n",
        "Structure: 12 features (mixed categorical and numerical)\n",
        "\n",
        "Missing values: Found in bmi (201 missing entries)\n",
        "\n",
        "Summary statistics: Age ranges from 0.08 to 82 years, glucose levels range from 55 to 271, BMI ranges from 10.3 to 97.6\n",
        "\n",
        "Observations:\n",
        "\n",
        "Outliers exist in glucose level and BMI\n",
        "\n",
        "Gender distribution: Female > Male\n",
        "\n",
        "Smoking status has 4 categories: never smoked, formerly smoked, smokes, unknown\n"
      ],
      "metadata": {
        "id": "MXxyacBC62_0"
      }
    },
    {
      "cell_type": "code",
      "source": [
        "print(df.head())\n",
        "print(df.info())\n",
        "print(df.describe())\n",
        "\n",
        "print(\"Missing values:\\n\", df.isnull().sum())\n",
        "\n",
        "import matplotlib.pyplot as plt\n",
        "df[\"age\"].hist(bins=30, edgecolor=\"black\")\n",
        "plt.title(\"Age Distribution\")\n",
        "plt.show()\n"
      ],
      "metadata": {
        "colab": {
          "base_uri": "https://localhost:8080/",
          "height": 1000
        },
        "id": "ai1jW_JRg-wc",
        "outputId": "22a48a0a-9dec-4f45-8e68-5a85bdd94d18"
      },
      "execution_count": null,
      "outputs": [
        {
          "output_type": "stream",
          "name": "stdout",
          "text": [
            "      id  gender   age  hypertension  heart_disease ever_married  \\\n",
            "0   9046    Male  67.0             0              1          Yes   \n",
            "1  51676  Female  61.0             0              0          Yes   \n",
            "2  31112    Male  80.0             0              1          Yes   \n",
            "3  60182  Female  49.0             0              0          Yes   \n",
            "4   1665  Female  79.0             1              0          Yes   \n",
            "\n",
            "       work_type Residence_type  avg_glucose_level   bmi   smoking_status  \\\n",
            "0        Private          Urban             228.69  36.6  formerly smoked   \n",
            "1  Self-employed          Rural             202.21   NaN     never smoked   \n",
            "2        Private          Rural             105.92  32.5     never smoked   \n",
            "3        Private          Urban             171.23  34.4           smokes   \n",
            "4  Self-employed          Rural             174.12  24.0     never smoked   \n",
            "\n",
            "   stroke  \n",
            "0       1  \n",
            "1       1  \n",
            "2       1  \n",
            "3       1  \n",
            "4       1  \n",
            "<class 'pandas.core.frame.DataFrame'>\n",
            "RangeIndex: 5110 entries, 0 to 5109\n",
            "Data columns (total 12 columns):\n",
            " #   Column             Non-Null Count  Dtype  \n",
            "---  ------             --------------  -----  \n",
            " 0   id                 5110 non-null   int64  \n",
            " 1   gender             5110 non-null   object \n",
            " 2   age                5110 non-null   float64\n",
            " 3   hypertension       5110 non-null   int64  \n",
            " 4   heart_disease      5110 non-null   int64  \n",
            " 5   ever_married       5110 non-null   object \n",
            " 6   work_type          5110 non-null   object \n",
            " 7   Residence_type     5110 non-null   object \n",
            " 8   avg_glucose_level  5110 non-null   float64\n",
            " 9   bmi                4909 non-null   float64\n",
            " 10  smoking_status     5110 non-null   object \n",
            " 11  stroke             5110 non-null   int64  \n",
            "dtypes: float64(3), int64(4), object(5)\n",
            "memory usage: 479.2+ KB\n",
            "None\n",
            "                 id          age  hypertension  heart_disease  \\\n",
            "count   5110.000000  5110.000000   5110.000000    5110.000000   \n",
            "mean   36517.829354    43.226614      0.097456       0.054012   \n",
            "std    21161.721625    22.612647      0.296607       0.226063   \n",
            "min       67.000000     0.080000      0.000000       0.000000   \n",
            "25%    17741.250000    25.000000      0.000000       0.000000   \n",
            "50%    36932.000000    45.000000      0.000000       0.000000   \n",
            "75%    54682.000000    61.000000      0.000000       0.000000   \n",
            "max    72940.000000    82.000000      1.000000       1.000000   \n",
            "\n",
            "       avg_glucose_level          bmi       stroke  \n",
            "count        5110.000000  4909.000000  5110.000000  \n",
            "mean          106.147677    28.893237     0.048728  \n",
            "std            45.283560     7.854067     0.215320  \n",
            "min            55.120000    10.300000     0.000000  \n",
            "25%            77.245000    23.500000     0.000000  \n",
            "50%            91.885000    28.100000     0.000000  \n",
            "75%           114.090000    33.100000     0.000000  \n",
            "max           271.740000    97.600000     1.000000  \n",
            "Missing values:\n",
            " id                     0\n",
            "gender                 0\n",
            "age                    0\n",
            "hypertension           0\n",
            "heart_disease          0\n",
            "ever_married           0\n",
            "work_type              0\n",
            "Residence_type         0\n",
            "avg_glucose_level      0\n",
            "bmi                  201\n",
            "smoking_status         0\n",
            "stroke                 0\n",
            "dtype: int64\n"
          ]
        },
        {
          "output_type": "display_data",
          "data": {
            "text/plain": [
              "<Figure size 640x480 with 1 Axes>"
            ],
            "image/png": "[encoded data removed]"
          },
          "metadata": {}
        }
      ]
    },
    {
      "cell_type": "code",
      "source": [],
      "metadata": {
        "id": "XI1G1mLf3kgq"
      },
      "execution_count": null,
      "outputs": []
    },
    {
      "cell_type": "markdown",
      "source": [
        "# 5.DATA CLEANING"
      ],
      "metadata": {
        "id": "tPJa3nZzhRBh"
      }
    },
    {
      "cell_type": "markdown",
      "source": [
        "Missing values in bmi were filled using the median\n",
        "\n",
        "Duplicate records (if any) were removed to avoid bias\n",
        "\n",
        "Outliers in avg_glucose_level and bmi detected using IQR method and capped\n",
        "\n",
        "Ensured categorical variables had consistent labels\n"
      ],
      "metadata": {
        "id": "aBpiwvrB7Jnd"
      }
    },
    {
      "cell_type": "code",
      "source": [
        "import numpy as np\n",
        "import pandas as pd\n",
        "\n",
        "# Load the dataset\n",
        "df = pd.read_csv(\"/content/extracted_archive/healthcare-dataset-stroke-data.csv\")\n",
        "\n",
        "\n",
        "df[\"bmi\"] = df[\"bmi\"].fillna(df[\"bmi\"].median())\n",
        "\n",
        "df = df.drop_duplicates()\n",
        "\n",
        "Q1, Q3 = df[\"avg_glucose_level\"].quantile([0.25, 0.75])\n",
        "IQR = Q3 - Q1\n",
        "lower, upper = Q1 - 1.5*IQR, Q3 + 1.5*IQR\n",
        "df[\"avg_glucose_level\"] = np.clip(df[\"avg_glucose_level\"], lower, upper)\n",
        "print(df)"
      ],
      "metadata": {
        "id": "C1MpdIRMhaqP",
        "colab": {
          "base_uri": "https://localhost:8080/"
        },
        "outputId": "a846a705-6f7a-42a0-d6e0-cff6f0e7d767"
      },
      "execution_count": null,
      "outputs": [
        {
          "output_type": "stream",
          "name": "stdout",
          "text": [
            "         id  gender   age  hypertension  heart_disease ever_married  \\\n",
            "0      9046    Male  67.0             0              1          Yes   \n",
            "1     51676  Female  61.0             0              0          Yes   \n",
            "2     31112    Male  80.0             0              1          Yes   \n",
            "3     60182  Female  49.0             0              0          Yes   \n",
            "4      1665  Female  79.0             1              0          Yes   \n",
            "...     ...     ...   ...           ...            ...          ...   \n",
            "5105  18234  Female  80.0             1              0          Yes   \n",
            "5106  44873  Female  81.0             0              0          Yes   \n",
            "5107  19723  Female  35.0             0              0          Yes   \n",
            "5108  37544    Male  51.0             0              0          Yes   \n",
            "5109  44679  Female  44.0             0              0          Yes   \n",
            "\n",
            "          work_type Residence_type  avg_glucose_level   bmi   smoking_status  \\\n",
            "0           Private          Urban           169.3575  36.6  formerly smoked   \n",
            "1     Self-employed          Rural           169.3575  28.1     never smoked   \n",
            "2           Private          Rural           105.9200  32.5     never smoked   \n",
            "3           Private          Urban           169.3575  34.4           smokes   \n",
            "4     Self-employed          Rural           169.3575  24.0     never smoked   \n",
            "...             ...            ...                ...   ...              ...   \n",
            "5105        Private          Urban            83.7500  28.1     never smoked   \n",
            "5106  Self-employed          Urban           125.2000  40.0     never smoked   \n",
            "5107  Self-employed          Rural            82.9900  30.6     never smoked   \n",
            "5108        Private          Rural           166.2900  25.6  formerly smoked   \n",
            "5109       Govt_job          Urban            85.2800  26.2          Unknown   \n",
            "\n",
            "      stroke  \n",
            "0          1  \n",
            "1          1  \n",
            "2          1  \n",
            "3          1  \n",
            "4          1  \n",
            "...      ...  \n",
            "5105       0  \n",
            "5106       0  \n",
            "5107       0  \n",
            "5108       0  \n",
            "5109       0  \n",
            "\n",
            "[5110 rows x 12 columns]\n"
          ]
        }
      ]
    },
    {
      "cell_type": "markdown",
      "source": [
        "# 6.DATA INTEGRATION & FEATURE DESIGNING"
      ],
      "metadata": {
        "id": "xPDP_LzbiZnX"
      }
    },
    {
      "cell_type": "markdown",
      "source": [
        "Extracted age groups (e.g., child, adult, senior)\n",
        "\n",
        "Aggregated risk factors by combining hypertension and heart disease into a single cardiac_risk feature\n",
        "\n",
        "Encoded categorical variables (gender, ever_married, work_type, Residence_type, smoking_status) using one-hot encoding\n",
        "\n",
        "Prepared dataset for machine learning analysis\n"
      ],
      "metadata": {
        "id": "bL6v94Q_7UbM"
      }
    },
    {
      "cell_type": "code",
      "source": [
        "bins = [0, 18, 35, 50, 65, 120]\n",
        "labels = [\"Child\", \"Youth\", \"Adult\", \"Middle Age\", \"Senior\"]\n",
        "df[\"age_group\"] = pd.cut(df[\"age\"], bins=bins, labels=labels)\n",
        "\n",
        "df[\"cardiac_risk\"] = df[\"hypertension\"] + df[\"heart_disease\"]\n",
        "\n",
        "df_encoded = pd.get_dummies(df, drop_first=True)\n",
        "print(df_encoded.head())\n"
      ],
      "metadata": {
        "colab": {
          "base_uri": "https://localhost:8080/"
        },
        "id": "mLmvbzHVijQN",
        "outputId": "a8434b2d-a6f0-4a0d-aad3-0078941c1830"
      },
      "execution_count": null,
      "outputs": [
        {
          "output_type": "stream",
          "name": "stdout",
          "text": [
            "      id   age  hypertension  heart_disease  avg_glucose_level   bmi  stroke  \\\n",
            "0   9046  67.0             0              1           169.3575  36.6       1   \n",
            "1  51676  61.0             0              0           169.3575  28.1       1   \n",
            "2  31112  80.0             0              1           105.9200  32.5       1   \n",
            "3  60182  49.0             0              0           169.3575  34.4       1   \n",
            "4   1665  79.0             1              0           169.3575  24.0       1   \n",
            "\n",
            "   cardiac_risk  gender_Male  gender_Other  ...  work_type_Self-employed  \\\n",
            "0             1         True         False  ...                    False   \n",
            "1             0        False         False  ...                     True   \n",
            "2             1         True         False  ...                    False   \n",
            "3             0        False         False  ...                    False   \n",
            "4             1        False         False  ...                     True   \n",
            "\n",
            "   work_type_children  Residence_type_Urban  smoking_status_formerly smoked  \\\n",
            "0               False                  True                            True   \n",
            "1               False                 False                           False   \n",
            "2               False                 False                           False   \n",
            "3               False                  True                           False   \n",
            "4               False                 False                           False   \n",
            "\n",
            "   smoking_status_never smoked  smoking_status_smokes  age_group_Youth  \\\n",
            "0                        False                  False            False   \n",
            "1                         True                  False            False   \n",
            "2                         True                  False            False   \n",
            "3                        False                   True            False   \n",
            "4                         True                  False            False   \n",
            "\n",
            "   age_group_Adult  age_group_Middle Age  age_group_Senior  \n",
            "0            False                 False              True  \n",
            "1            False                  True             False  \n",
            "2            False                 False              True  \n",
            "3             True                 False             False  \n",
            "4            False                 False              True  \n",
            "\n",
            "[5 rows x 23 columns]\n"
          ]
        }
      ]
    },
    {
      "cell_type": "markdown",
      "source": [
        "# 7.INITIAL ADVANCED ANALYSIS(CLUSTERING)"
      ],
      "metadata": {
        "id": "NoCByH5oiyWV"
      }
    },
    {
      "cell_type": "markdown",
      "source": [
        "Clustering: Performed KMeans clustering to segment patients based on avg_glucose_level, bmi, and age\n",
        "\n",
        "Identified clusters such as:\n",
        "\n",
        "High glucose & high BMI group (high risk)\n",
        "\n",
        "Normal BMI & glucose group (moderate risk)\n",
        "\n",
        "Young healthy group (low risk)\n"
      ],
      "metadata": {
        "id": "e8JTZzLR7hT3"
      }
    },
    {
      "cell_type": "code",
      "source": [
        "from sklearn.preprocessing import StandardScaler\n",
        "from sklearn.cluster import KMeans\n",
        "\n",
        "X = df[[\"age\", \"avg_glucose_level\", \"bmi\"]]\n",
        "\n",
        "scaler = StandardScaler()\n",
        "X_scaled = scaler.fit_transform(X)\n",
        "\n",
        "kmeans = KMeans(n_clusters=3, random_state=42, n_init=10)\n",
        "df[\"cluster\"] = kmeans.fit_predict(X_scaled)\n",
        "\n",
        "print(df[[\"age\", \"avg_glucose_level\", \"bmi\", \"cluster\"]].head())\n"
      ],
      "metadata": {
        "colab": {
          "base_uri": "https://localhost:8080/"
        },
        "id": "fWOBk1BRjBm5",
        "outputId": "325d2918-3547-4f74-92a0-e4c6462638b7"
      },
      "execution_count": null,
      "outputs": [
        {
          "output_type": "stream",
          "name": "stdout",
          "text": [
            "    age  avg_glucose_level   bmi  cluster\n",
            "0  67.0           169.3575  36.6        2\n",
            "1  61.0           169.3575  28.1        2\n",
            "2  80.0           105.9200  32.5        1\n",
            "3  49.0           169.3575  34.4        2\n",
            "4  79.0           169.3575  24.0        2\n"
          ]
        }
      ]
    },
    {
      "cell_type": "markdown",
      "source": [
        "# 8.VISUAL SUMMARY"
      ],
      "metadata": {
        "id": "6vYn97d6jdpz"
      }
    },
    {
      "cell_type": "markdown",
      "source": [
        "Data was visualized using Matplotlib and Seaborn:\n",
        "\n",
        "Distribution plots for age, glucose, and BMI\n",
        "\n",
        "Count plots for categorical variables (smoking, work type, marriage)\n",
        "\n",
        "Boxplots to show outliers in BMI and glucose\n",
        "\n",
        "Cluster visualization of patients based on glucose and BMI\n",
        "\n",
        "Insights:\n",
        "\n",
        "Majority of stroke cases are among elderly patients with high glucose levels\n",
        "\n",
        "Married individuals form a higher proportion of patients\n",
        "\n",
        "Smoking increases stroke risk significantly\n"
      ],
      "metadata": {
        "id": "yMasRV5V7iq3"
      }
    },
    {
      "cell_type": "code",
      "source": [
        "import pandas as pd\n",
        "import seaborn as sns\n",
        "import matplotlib.pyplot as plt\n",
        "from sklearn.preprocessing import StandardScaler\n",
        "from sklearn.cluster import KMeans\n",
        "import zipfile\n",
        "import os\n",
        "\n",
        "# Extract the zip file\n",
        "zip_path=\"/content/archive.zip\"\n",
        "extract_path = \"/content/extracted_archive\"\n",
        "with zipfile.ZipFile(zip_path,'r') as zip_ref:\n",
        "  zip_ref.extractall(extract_path)\n",
        "\n",
        "# Load the dataset\n",
        "df = pd.read_csv(\"/content/extracted_archive/healthcare-dataset-stroke-data.csv\")\n",
        "\n",
        "# Preprocess the data (fill missing BMI values and perform clustering)\n",
        "df[\"bmi\"] = df[\"bmi\"].fillna(df[\"bmi\"].median())\n",
        "X = df[[\"age\", \"avg_glucose_level\", \"bmi\"]]\n",
        "scaler = StandardScaler()\n",
        "X_scaled = scaler.fit_transform(X)\n",
        "kmeans = KMeans(n_clusters=3, random_state=42, n_init=10)\n",
        "df[\"cluster\"] = kmeans.fit_predict(X_scaled)\n",
        "\n",
        "# Histogram (instead of countplot)\n",
        "sns.histplot(data=df, x=\"smoking_status\", discrete=True)  # `discrete=True` ensures categorical bins\n",
        "plt.title(\"Smoking Status Distribution (Histogram)\")\n",
        "plt.xticks(rotation=45)\n",
        "plt.show()"
      ],
      "metadata": {
        "colab": {
          "base_uri": "https://localhost:8080/",
          "height": 551
        },
        "id": "7WDFAJpejjF4",
        "outputId": "3517ddb3-0ea1-4d51-85da-e9e659a4ccbb"
      },
      "execution_count": null,
      "outputs": [
        {
          "output_type": "display_data",
          "data": {
            "text/plain": [
              "<Figure size 640x480 with 1 Axes>"
            ],
            "image/png": "[encoded data removed]"
          },
          "metadata": {}
        }
      ]
    },
    {
      "cell_type": "markdown",
      "source": [
        "# 9.CONCLUSION & FUTURE WORK\n",
        "\n",
        "This project successfully explored, cleaned, and prepared the healthcare dataset. Initial clustering revealed distinct patient groups with varying risk levels.\n",
        "\n",
        "\n",
        "**Future Work:**\n",
        "\n",
        "*   \n",
        "Build predictive models (Logistic Regression, Random Forest, XGBoost)\n",
        "* Conduct feature importance analysis\n",
        "*   Improve cluster interpretability with dimensionality reduction (PCA)\n",
        "*  Deploy as a decision support system for healthcare professionals\n",
        "\n"
      ],
      "metadata": {
        "id": "sih1VjrLmXC0"
      }
    },
    {
      "cell_type": "markdown",
      "source": [
        "# 10.REFERENCES\n",
        "*   Dataset: [Healthcare Stroke Dataset – Kaggle/Open Data]\n",
        "*   Libraries: Pandas, Numpy, Matplotlib, Seaborn, Scikit-learn\n",
        "*   Guides: Data preprocessing and clustering tutorials\n",
        "\n",
        "\n"
      ],
      "metadata": {
        "id": "rUAxcrATnIi6"
      }
    },
    {
      "cell_type": "markdown",
      "source": [],
      "metadata": {
        "id": "E4sYlW2doVLQ"
      }
    }
  ]
}